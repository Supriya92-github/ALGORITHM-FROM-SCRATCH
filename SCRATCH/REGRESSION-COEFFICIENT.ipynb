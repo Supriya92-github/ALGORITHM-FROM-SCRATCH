{
 "cells": [
  {
   "cell_type": "markdown",
   "metadata": {},
   "source": [
    "# SUPRIYA PANIGRAHI\n",
    "# ROLL - E21021\n",
    "# supriya.panigrahi@praxis.ac.in"
   ]
  },
  {
   "cell_type": "code",
   "execution_count": 8,
   "metadata": {},
   "outputs": [],
   "source": [
    "#import requisite libraries\n",
    "import statistics as st\n",
    "import math\n",
    "import os\n",
    "import numpy as np\n",
    "import pandas as pd\n",
    "import matplotlib.pyplot as plt\n",
    "#change the directory\n",
    "os.chdir(\"C:\\\\Users\\\\92sup\\\\Downloads\\\\ML\")\n",
    "import pandas as pd\n",
    "#read the data set\n",
    "cars = pd.read_csv(\"cars.csv\")"
   ]
  },
  {
   "cell_type": "code",
   "execution_count": 9,
   "metadata": {},
   "outputs": [
    {
     "name": "stdout",
     "output_type": "stream",
     "text": [
      "46.325305341697934 -0.00781162853863321\n"
     ]
    }
   ],
   "source": [
    "#assign the X value as weight and Y value as MPG\n",
    "x=cars.Weight\n",
    "y=cars.MPG\n",
    "#find the length of x\n",
    "n=len(x)\n",
    "#sum the value of x i.e sum all the values of weight\n",
    "x_sum=np.sum(cars.Weight)\n",
    "#sum the value of x i.e sum all the values of MPG\n",
    "y_sum=np.sum(cars.MPG)\n",
    "x_sq_sum=np.sum((cars.Weight)**2)\n",
    "y_sq_sum=np.sum((cars.MPG)**2)\n",
    "sum_x_y=np.sum((cars.Weight)*(cars.MPG))\n",
    "whl_sum_of_xsq=x_sum*x_sum\n",
    "whl_sum_of_ysq=y_sum*y_sum\n",
    "#find the values of A and B\n",
    "A=((y_sum*x_sq_sum)-(x_sum*sum_x_y))/((n*x_sq_sum)-(whl_sum_of_xsq))\n",
    "#A\n",
    "B=((n*sum_x_y)-(x_sum*y_sum))/((n*x_sq_sum)-(whl_sum_of_xsq))\n",
    "#B\n",
    "print(A,B)"
   ]
  },
  {
   "cell_type": "code",
   "execution_count": null,
   "metadata": {},
   "outputs": [],
   "source": []
  }
 ],
 "metadata": {
  "kernelspec": {
   "display_name": "Python 3",
   "language": "python",
   "name": "python3"
  },
  "language_info": {
   "codemirror_mode": {
    "name": "ipython",
    "version": 3
   },
   "file_extension": ".py",
   "mimetype": "text/x-python",
   "name": "python",
   "nbconvert_exporter": "python",
   "pygments_lexer": "ipython3",
   "version": "3.8.5"
  }
 },
 "nbformat": 4,
 "nbformat_minor": 4
}
